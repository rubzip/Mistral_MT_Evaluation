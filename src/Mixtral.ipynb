{
 "cells": [
  {
   "cell_type": "code",
   "execution_count": 1,
   "metadata": {},
   "outputs": [],
   "source": [
    "import pandas as pd\n",
    "from fun import *\n",
    "from common import generate_mapper\n",
    "from groq import Groq\n",
    "from dotenv import load_dotenv\n",
    "import os\n",
    "import json"
   ]
  },
  {
   "cell_type": "code",
   "execution_count": 2,
   "metadata": {},
   "outputs": [
    {
     "data": {
      "text/html": [
       "<div>\n",
       "<style scoped>\n",
       "    .dataframe tbody tr th:only-of-type {\n",
       "        vertical-align: middle;\n",
       "    }\n",
       "\n",
       "    .dataframe tbody tr th {\n",
       "        vertical-align: top;\n",
       "    }\n",
       "\n",
       "    .dataframe thead th {\n",
       "        text-align: right;\n",
       "    }\n",
       "</style>\n",
       "<table border=\"1\" class=\"dataframe\">\n",
       "  <thead>\n",
       "    <tr style=\"text-align: right;\">\n",
       "      <th></th>\n",
       "      <th>lp</th>\n",
       "      <th>src</th>\n",
       "      <th>mt</th>\n",
       "      <th>ref</th>\n",
       "      <th>score</th>\n",
       "      <th>raw</th>\n",
       "      <th>annotators</th>\n",
       "      <th>domain</th>\n",
       "      <th>year</th>\n",
       "      <th>l1</th>\n",
       "      <th>l2</th>\n",
       "    </tr>\n",
       "  </thead>\n",
       "  <tbody>\n",
       "    <tr>\n",
       "      <th>0</th>\n",
       "      <td>en-zh</td>\n",
       "      <td>Police said in a statement at the time that th...</td>\n",
       "      <td>警方在当时的一份声明中表示，他们决定以“沉重的心情”结束对 Jacsun 的搜索，但指出他们...</td>\n",
       "      <td>警方在当时的一份声明中表示，他们在决定结束对杰森的搜寻时，是怀着“沉重的心情”的，并指出他们...</td>\n",
       "      <td>0.238989</td>\n",
       "      <td>80.500000</td>\n",
       "      <td>4</td>\n",
       "      <td>news</td>\n",
       "      <td>2020</td>\n",
       "      <td>en</td>\n",
       "      <td>zh</td>\n",
       "    </tr>\n",
       "    <tr>\n",
       "      <th>1</th>\n",
       "      <td>en-zh</td>\n",
       "      <td>Trump will likely veto the resolution, the six...</td>\n",
       "      <td>特 朗 普 可 能 会 否 决 该 决 议 ， 这 是 他 第 六 次 以 总 统 身 份 ...</td>\n",
       "      <td>特朗普很可能行使总统否决权，这将是他成为总统以来第6次否决国会立法。他早在三月已动用否决权，...</td>\n",
       "      <td>0.487842</td>\n",
       "      <td>81.166667</td>\n",
       "      <td>6</td>\n",
       "      <td>news</td>\n",
       "      <td>2020</td>\n",
       "      <td>en</td>\n",
       "      <td>zh</td>\n",
       "    </tr>\n",
       "    <tr>\n",
       "      <th>2</th>\n",
       "      <td>en-zh</td>\n",
       "      <td>The man arrived at work about 9.30am after fai...</td>\n",
       "      <td>该名男子未能回复同事的几条短信和电话，于上午9.30左右上班。</td>\n",
       "      <td>该男子大约在上午 9:30 到达工作单位，在此之前，他未能回复同事发来的几条信息和打来的电话。</td>\n",
       "      <td>0.469850</td>\n",
       "      <td>80.500000</td>\n",
       "      <td>4</td>\n",
       "      <td>news</td>\n",
       "      <td>2020</td>\n",
       "      <td>en</td>\n",
       "      <td>zh</td>\n",
       "    </tr>\n",
       "    <tr>\n",
       "      <th>3</th>\n",
       "      <td>en-zh</td>\n",
       "      <td>Are hopes for a nuclear-free world realistic?</td>\n",
       "      <td>对一个无核世界的希望是现实的吗 ？</td>\n",
       "      <td>实现无核化世界的希望是否现实？</td>\n",
       "      <td>0.626218</td>\n",
       "      <td>81.000000</td>\n",
       "      <td>4</td>\n",
       "      <td>news</td>\n",
       "      <td>2020</td>\n",
       "      <td>en</td>\n",
       "      <td>zh</td>\n",
       "    </tr>\n",
       "    <tr>\n",
       "      <th>4</th>\n",
       "      <td>en-zh</td>\n",
       "      <td>The California attorney general's office in Ma...</td>\n",
       "      <td>3月,加利福尼亚总检察长办公室在经过近一年的调查后拒绝提出州刑事指控,当时,总检察长Xavi...</td>\n",
       "      <td>3 月，加州总检察长办公室在完成了近一年的案件调查后，拒绝对两名警察提起加州刑事起诉。总检察...</td>\n",
       "      <td>-0.207602</td>\n",
       "      <td>59.000000</td>\n",
       "      <td>4</td>\n",
       "      <td>news</td>\n",
       "      <td>2020</td>\n",
       "      <td>en</td>\n",
       "      <td>zh</td>\n",
       "    </tr>\n",
       "  </tbody>\n",
       "</table>\n",
       "</div>"
      ],
      "text/plain": [
       "      lp                                                src  \\\n",
       "0  en-zh  Police said in a statement at the time that th...   \n",
       "1  en-zh  Trump will likely veto the resolution, the six...   \n",
       "2  en-zh  The man arrived at work about 9.30am after fai...   \n",
       "3  en-zh      Are hopes for a nuclear-free world realistic?   \n",
       "4  en-zh  The California attorney general's office in Ma...   \n",
       "\n",
       "                                                  mt  \\\n",
       "0  警方在当时的一份声明中表示，他们决定以“沉重的心情”结束对 Jacsun 的搜索，但指出他们...   \n",
       "1  特 朗 普 可 能 会 否 决 该 决 议 ， 这 是 他 第 六 次 以 总 统 身 份 ...   \n",
       "2                    该名男子未能回复同事的几条短信和电话，于上午9.30左右上班。   \n",
       "3                                  对一个无核世界的希望是现实的吗 ？   \n",
       "4  3月,加利福尼亚总检察长办公室在经过近一年的调查后拒绝提出州刑事指控,当时,总检察长Xavi...   \n",
       "\n",
       "                                                 ref     score        raw  \\\n",
       "0  警方在当时的一份声明中表示，他们在决定结束对杰森的搜寻时，是怀着“沉重的心情”的，并指出他们...  0.238989  80.500000   \n",
       "1  特朗普很可能行使总统否决权，这将是他成为总统以来第6次否决国会立法。他早在三月已动用否决权，...  0.487842  81.166667   \n",
       "2    该男子大约在上午 9:30 到达工作单位，在此之前，他未能回复同事发来的几条信息和打来的电话。  0.469850  80.500000   \n",
       "3                                    实现无核化世界的希望是否现实？  0.626218  81.000000   \n",
       "4  3 月，加州总检察长办公室在完成了近一年的案件调查后，拒绝对两名警察提起加州刑事起诉。总检察... -0.207602  59.000000   \n",
       "\n",
       "   annotators domain  year  l1  l2  \n",
       "0           4   news  2020  en  zh  \n",
       "1           6   news  2020  en  zh  \n",
       "2           4   news  2020  en  zh  \n",
       "3           4   news  2020  en  zh  \n",
       "4           4   news  2020  en  zh  "
      ]
     },
     "execution_count": 2,
     "metadata": {},
     "output_type": "execute_result"
    }
   ],
   "source": [
    "df = pd.read_csv(\"../data/translations.csv\")\n",
    "df.head()"
   ]
  },
  {
   "cell_type": "code",
   "execution_count": 3,
   "metadata": {},
   "outputs": [
    {
     "name": "stdout",
     "output_type": "stream",
     "text": [
      "Please evaluate the quality of the translation from [ORIGINAL LANGUAGE] to [TRANSLATED LANGUAGE] based on accuracy, fluency, and coherence.\n",
      "Provide a score from 0 to 100 to indicate the overall quality of the translation.\n",
      "\n"
     ]
    }
   ],
   "source": [
    "with open(\"../data/prompts/PROMPT4.txt\", \"r\") as f:\n",
    "    prompt_template = f.read()\n",
    "\n",
    "print(prompt_template)"
   ]
  },
  {
   "cell_type": "code",
   "execution_count": 4,
   "metadata": {},
   "outputs": [],
   "source": [
    "language_mapper = {\n",
    "    \"en\": \"English\",\n",
    "    \"fi\": \"Finnish\",\n",
    "    \"de\": \"German\",\n",
    "    \"hi\": \"Hindi\",\n",
    "    \"xh\": \"Xhosa\",\n",
    "    \"zh\": \"Chinese\",\n",
    "    \"cs\": \"Czech\",\n",
    "    \"fr\": \"French\",\n",
    "    \"bn\": \"Bengali\",\n",
    "    \"zu\": \"Zulu\",\n",
    "}"
   ]
  },
  {
   "cell_type": "code",
   "execution_count": 5,
   "metadata": {},
   "outputs": [],
   "source": [
    "df[\"l1\"] = df[\"l1\"].map(language_mapper)\n",
    "df[\"l2\"] = df[\"l2\"].map(language_mapper)"
   ]
  },
  {
   "cell_type": "code",
   "execution_count": 6,
   "metadata": {},
   "outputs": [],
   "source": [
    "def get_conversation_groq(\n",
    "    src_language: str, trg_language: str, src_sentence: str, trg_sentence: str\n",
    ") -> str:\n",
    "    messages = [\n",
    "        {\n",
    "            \"role\": \"system\",\n",
    "            \"content\": f\"\"\"Please evaluate the quality of the translation from {src_language} to {trg_language} based on accuracy, fluency, and coherence: \\n Provide a score from 0 to 100 to indicate the overall quality of the translation. Provide only the score, nothing else.\"\"\",\n",
    "        },\n",
    "        {\n",
    "            \"role\": \"user\",\n",
    "            \"content\": f'Original sentence: \"{src_sentence}\" \\n Translated sentence: \"{trg_sentence}\"',\n",
    "        },\n",
    "    ]\n",
    "    return messages"
   ]
  },
  {
   "cell_type": "code",
   "execution_count": 7,
   "metadata": {},
   "outputs": [],
   "source": [
    "df[\"message\"] = df.apply(\n",
    "    lambda x: get_conversation_groq(x[\"l1\"], x[\"l2\"], x[\"src\"], x[\"mt\"]), axis=1\n",
    ")"
   ]
  },
  {
   "cell_type": "code",
   "execution_count": 8,
   "metadata": {},
   "outputs": [
    {
     "data": {
      "text/plain": [
       "True"
      ]
     },
     "execution_count": 8,
     "metadata": {},
     "output_type": "execute_result"
    }
   ],
   "source": [
    "load_dotenv()"
   ]
  },
  {
   "cell_type": "code",
   "execution_count": 9,
   "metadata": {},
   "outputs": [],
   "source": [
    "client = Groq()"
   ]
  },
  {
   "cell_type": "code",
   "execution_count": 10,
   "metadata": {},
   "outputs": [],
   "source": [
    "input_data = df[\"message\"].to_list()"
   ]
  },
  {
   "cell_type": "code",
   "execution_count": 11,
   "metadata": {},
   "outputs": [
    {
     "data": {
      "text/plain": [
       "[{'role': 'system',\n",
       "  'content': 'Please evaluate the quality of the translation from English to Chinese based on accuracy, fluency, and coherence: \\n Provide a score from 0 to 100 to indicate the overall quality of the translation. Provide only the score, nothing else.'},\n",
       " {'role': 'user',\n",
       "  'content': 'Original sentence: \"Police said in a statement at the time that they made the decision to end the search for Jacsun with a \"heavy heart,\" but noted they couldn\\'t pinpoint a location in the landfill \"to a point that would make continuing the search reasonable.\"\" \\n Translated sentence: \"警方在当时的一份声明中表示，他们决定以“沉重的心情”结束对 Jacsun 的搜索，但指出他们无法确定垃圾填埋场的位置，“以至于继续搜索是合理的”。\"'}]"
      ]
     },
     "execution_count": 11,
     "metadata": {},
     "output_type": "execute_result"
    }
   ],
   "source": [
    "input_data[0]"
   ]
  },
  {
   "cell_type": "code",
   "execution_count": 12,
   "metadata": {},
   "outputs": [
    {
     "name": "stdout",
     "output_type": "stream",
     "text": [
      "next start by:\n",
      "663\n"
     ]
    }
   ],
   "source": [
    "last_idx = 0\n",
    "max_rows = 2401\n",
    "outfile = f'../data/mixtral/{last_idx}_starting_row.json'\n",
    "\n",
    "with open(outfile, 'w') as output_file:\n",
    "    output_file.write('[')\n",
    "    for i in range(last_idx, len(input_data[:max_rows])):\n",
    "        try:\n",
    "            sample = input_data[i]\n",
    "            chat_completion = client.chat.completions.create(\n",
    "                messages=input_data[i],\n",
    "                model=\"mixtral-8x7b-32768\",\n",
    "                temperature=0.5,\n",
    "                max_tokens=1024,\n",
    "                top_p=1,\n",
    "                stop=None,\n",
    "                stream=False,\n",
    "            )\n",
    "            answer = chat_completion.choices[0].message.content\n",
    "\n",
    "            output_sample = {'sentence': sample[-1]['content'],'score': answer, 'id': i}\n",
    "\n",
    "            output_file.write(json.dumps(output_sample))\n",
    "\n",
    "            if i != (max_rows - 1):\n",
    "                output_file.write(',')\n",
    "        except:\n",
    "            print('next start by:')\n",
    "            print(i + 1)\n",
    "            break\n",
    "    output_file.write(']')"
   ]
  },
  {
   "cell_type": "code",
   "execution_count": null,
   "metadata": {},
   "outputs": [],
   "source": [
    "with open(outfile) as file:\n",
    "    content = json.load(file)"
   ]
  },
  {
   "cell_type": "code",
   "execution_count": null,
   "metadata": {},
   "outputs": [],
   "source": [
    "def recover_all_files(path: str):\n",
    "    files_content = []\n",
    "\n",
    "    for filename in os.listdir(path):\n",
    "        with open(f\"{path}/{filename}\") as infile:\n",
    "            file_content = json.load(infile)\n",
    "            files_content += file_content\n",
    "    return pd.DataFrame(files_content).sort_values(by=\"id\").reset_index(drop=True)"
   ]
  },
  {
   "cell_type": "code",
   "execution_count": null,
   "metadata": {},
   "outputs": [],
   "source": [
    "df_gemma = recover_all_files(\"../data/gemma\")"
   ]
  }
 ],
 "metadata": {
  "kernelspec": {
   "display_name": "mt_venv",
   "language": "python",
   "name": "python3"
  },
  "language_info": {
   "codemirror_mode": {
    "name": "ipython",
    "version": 3
   },
   "file_extension": ".py",
   "mimetype": "text/x-python",
   "name": "python",
   "nbconvert_exporter": "python",
   "pygments_lexer": "ipython3",
   "version": "3.9.6"
  }
 },
 "nbformat": 4,
 "nbformat_minor": 2
}

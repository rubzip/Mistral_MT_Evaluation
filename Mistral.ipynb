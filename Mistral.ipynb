{
 "cells": [
  {
   "cell_type": "code",
   "execution_count": 15,
   "id": "21ea985e-1718-449b-a7cf-6a98097ca4b3",
   "metadata": {},
   "outputs": [
    {
     "name": "stdout",
     "output_type": "stream",
     "text": [
      "Collecting mistralai\n",
      "  Using cached mistralai-0.1.8-py3-none-any.whl.metadata (1.8 kB)\n",
      "Collecting httpx<0.26.0,>=0.25.2 (from mistralai)\n",
      "  Using cached httpx-0.25.2-py3-none-any.whl.metadata (6.9 kB)\n",
      "Collecting orjson<4.0.0,>=3.9.10 (from mistralai)\n",
      "  Using cached orjson-3.10.3-cp311-none-win_amd64.whl.metadata (50 kB)\n",
      "Collecting pydantic<3.0.0,>=2.5.2 (from mistralai)\n",
      "  Using cached pydantic-2.7.1-py3-none-any.whl.metadata (107 kB)\n",
      "Requirement already satisfied: anyio in c:\\users\\ruben\\anaconda3\\lib\\site-packages (from httpx<0.26.0,>=0.25.2->mistralai) (4.2.0)\n",
      "Requirement already satisfied: certifi in c:\\users\\ruben\\anaconda3\\lib\\site-packages (from httpx<0.26.0,>=0.25.2->mistralai) (2024.2.2)\n",
      "Collecting httpcore==1.* (from httpx<0.26.0,>=0.25.2->mistralai)\n",
      "  Using cached httpcore-1.0.5-py3-none-any.whl.metadata (20 kB)\n",
      "Requirement already satisfied: idna in c:\\users\\ruben\\anaconda3\\lib\\site-packages (from httpx<0.26.0,>=0.25.2->mistralai) (3.4)\n",
      "Requirement already satisfied: sniffio in c:\\users\\ruben\\anaconda3\\lib\\site-packages (from httpx<0.26.0,>=0.25.2->mistralai) (1.3.0)\n",
      "Requirement already satisfied: h11<0.15,>=0.13 in c:\\users\\ruben\\anaconda3\\lib\\site-packages (from httpcore==1.*->httpx<0.26.0,>=0.25.2->mistralai) (0.14.0)\n",
      "Collecting annotated-types>=0.4.0 (from pydantic<3.0.0,>=2.5.2->mistralai)\n",
      "  Using cached annotated_types-0.6.0-py3-none-any.whl.metadata (12 kB)\n",
      "Collecting pydantic-core==2.18.2 (from pydantic<3.0.0,>=2.5.2->mistralai)\n",
      "  Using cached pydantic_core-2.18.2-cp311-none-win_amd64.whl.metadata (6.7 kB)\n",
      "Requirement already satisfied: typing-extensions>=4.6.1 in c:\\users\\ruben\\anaconda3\\lib\\site-packages (from pydantic<3.0.0,>=2.5.2->mistralai) (4.9.0)\n",
      "Using cached mistralai-0.1.8-py3-none-any.whl (15 kB)\n",
      "Using cached httpx-0.25.2-py3-none-any.whl (74 kB)\n",
      "Using cached httpcore-1.0.5-py3-none-any.whl (77 kB)\n",
      "Using cached orjson-3.10.3-cp311-none-win_amd64.whl (138 kB)\n",
      "Using cached pydantic-2.7.1-py3-none-any.whl (409 kB)\n",
      "Using cached pydantic_core-2.18.2-cp311-none-win_amd64.whl (1.9 MB)\n",
      "Using cached annotated_types-0.6.0-py3-none-any.whl (12 kB)\n",
      "Installing collected packages: pydantic-core, orjson, httpcore, annotated-types, pydantic, httpx, mistralai\n",
      "  Attempting uninstall: pydantic\n",
      "    Found existing installation: pydantic 1.10.12\n",
      "    Uninstalling pydantic-1.10.12:\n",
      "      Successfully uninstalled pydantic-1.10.12\n",
      "Successfully installed annotated-types-0.6.0 httpcore-1.0.5 httpx-0.25.2 mistralai-0.1.8 orjson-3.10.3 pydantic-2.7.1 pydantic-core-2.18.2\n"
     ]
    },
    {
     "name": "stderr",
     "output_type": "stream",
     "text": [
      "  WARNING: Failed to remove contents in a temporary directory 'C:\\Users\\ruben\\anaconda3\\Lib\\site-packages\\~ydantic'.\n",
      "  You can safely remove it manually.\n",
      "ERROR: pip's dependency resolver does not currently take into account all the packages that are installed. This behaviour is the source of the following dependency conflicts.\n",
      "anaconda-cloud-auth 0.1.4 requires pydantic<2.0, but you have pydantic 2.7.1 which is incompatible.\n"
     ]
    }
   ],
   "source": [
    "!pip install mistralai"
   ]
  },
  {
   "cell_type": "code",
   "execution_count": 17,
   "id": "8384a360-aab1-4bd2-93c5-e701e0882f4e",
   "metadata": {},
   "outputs": [],
   "source": [
    "import pandas as pd\n",
    "from fun import *"
   ]
  },
  {
   "cell_type": "code",
   "execution_count": 18,
   "id": "af3353a6-3a79-4560-acee-21b518eb4123",
   "metadata": {},
   "outputs": [
    {
     "data": {
      "text/html": [
       "<div>\n",
       "<style scoped>\n",
       "    .dataframe tbody tr th:only-of-type {\n",
       "        vertical-align: middle;\n",
       "    }\n",
       "\n",
       "    .dataframe tbody tr th {\n",
       "        vertical-align: top;\n",
       "    }\n",
       "\n",
       "    .dataframe thead th {\n",
       "        text-align: right;\n",
       "    }\n",
       "</style>\n",
       "<table border=\"1\" class=\"dataframe\">\n",
       "  <thead>\n",
       "    <tr style=\"text-align: right;\">\n",
       "      <th></th>\n",
       "      <th>lp</th>\n",
       "      <th>src</th>\n",
       "      <th>mt</th>\n",
       "      <th>ref</th>\n",
       "      <th>score</th>\n",
       "      <th>raw</th>\n",
       "      <th>annotators</th>\n",
       "      <th>domain</th>\n",
       "      <th>year</th>\n",
       "      <th>l1</th>\n",
       "      <th>l2</th>\n",
       "    </tr>\n",
       "  </thead>\n",
       "  <tbody>\n",
       "    <tr>\n",
       "      <th>0</th>\n",
       "      <td>en-zh</td>\n",
       "      <td>Police said in a statement at the time that th...</td>\n",
       "      <td>警方在当时的一份声明中表示，他们决定以“沉重的心情”结束对 Jacsun 的搜索，但指出他们...</td>\n",
       "      <td>警方在当时的一份声明中表示，他们在决定结束对杰森的搜寻时，是怀着“沉重的心情”的，并指出他们...</td>\n",
       "      <td>0.238989</td>\n",
       "      <td>80.500000</td>\n",
       "      <td>4</td>\n",
       "      <td>news</td>\n",
       "      <td>2020</td>\n",
       "      <td>en</td>\n",
       "      <td>zh</td>\n",
       "    </tr>\n",
       "    <tr>\n",
       "      <th>1</th>\n",
       "      <td>en-zh</td>\n",
       "      <td>Trump will likely veto the resolution, the six...</td>\n",
       "      <td>特 朗 普 可 能 会 否 决 该 决 议 ， 这 是 他 第 六 次 以 总 统 身 份 ...</td>\n",
       "      <td>特朗普很可能行使总统否决权，这将是他成为总统以来第6次否决国会立法。他早在三月已动用否决权，...</td>\n",
       "      <td>0.487842</td>\n",
       "      <td>81.166667</td>\n",
       "      <td>6</td>\n",
       "      <td>news</td>\n",
       "      <td>2020</td>\n",
       "      <td>en</td>\n",
       "      <td>zh</td>\n",
       "    </tr>\n",
       "    <tr>\n",
       "      <th>2</th>\n",
       "      <td>en-zh</td>\n",
       "      <td>The man arrived at work about 9.30am after fai...</td>\n",
       "      <td>该名男子未能回复同事的几条短信和电话，于上午9.30左右上班。</td>\n",
       "      <td>该男子大约在上午 9:30 到达工作单位，在此之前，他未能回复同事发来的几条信息和打来的电话。</td>\n",
       "      <td>0.469850</td>\n",
       "      <td>80.500000</td>\n",
       "      <td>4</td>\n",
       "      <td>news</td>\n",
       "      <td>2020</td>\n",
       "      <td>en</td>\n",
       "      <td>zh</td>\n",
       "    </tr>\n",
       "    <tr>\n",
       "      <th>3</th>\n",
       "      <td>en-zh</td>\n",
       "      <td>Are hopes for a nuclear-free world realistic?</td>\n",
       "      <td>对一个无核世界的希望是现实的吗 ？</td>\n",
       "      <td>实现无核化世界的希望是否现实？</td>\n",
       "      <td>0.626218</td>\n",
       "      <td>81.000000</td>\n",
       "      <td>4</td>\n",
       "      <td>news</td>\n",
       "      <td>2020</td>\n",
       "      <td>en</td>\n",
       "      <td>zh</td>\n",
       "    </tr>\n",
       "    <tr>\n",
       "      <th>4</th>\n",
       "      <td>en-zh</td>\n",
       "      <td>The California attorney general's office in Ma...</td>\n",
       "      <td>3月,加利福尼亚总检察长办公室在经过近一年的调查后拒绝提出州刑事指控,当时,总检察长Xavi...</td>\n",
       "      <td>3 月，加州总检察长办公室在完成了近一年的案件调查后，拒绝对两名警察提起加州刑事起诉。总检察...</td>\n",
       "      <td>-0.207602</td>\n",
       "      <td>59.000000</td>\n",
       "      <td>4</td>\n",
       "      <td>news</td>\n",
       "      <td>2020</td>\n",
       "      <td>en</td>\n",
       "      <td>zh</td>\n",
       "    </tr>\n",
       "  </tbody>\n",
       "</table>\n",
       "</div>"
      ],
      "text/plain": [
       "      lp                                                src  \\\n",
       "0  en-zh  Police said in a statement at the time that th...   \n",
       "1  en-zh  Trump will likely veto the resolution, the six...   \n",
       "2  en-zh  The man arrived at work about 9.30am after fai...   \n",
       "3  en-zh      Are hopes for a nuclear-free world realistic?   \n",
       "4  en-zh  The California attorney general's office in Ma...   \n",
       "\n",
       "                                                  mt  \\\n",
       "0  警方在当时的一份声明中表示，他们决定以“沉重的心情”结束对 Jacsun 的搜索，但指出他们...   \n",
       "1  特 朗 普 可 能 会 否 决 该 决 议 ， 这 是 他 第 六 次 以 总 统 身 份 ...   \n",
       "2                    该名男子未能回复同事的几条短信和电话，于上午9.30左右上班。   \n",
       "3                                  对一个无核世界的希望是现实的吗 ？   \n",
       "4  3月,加利福尼亚总检察长办公室在经过近一年的调查后拒绝提出州刑事指控,当时,总检察长Xavi...   \n",
       "\n",
       "                                                 ref     score        raw  \\\n",
       "0  警方在当时的一份声明中表示，他们在决定结束对杰森的搜寻时，是怀着“沉重的心情”的，并指出他们...  0.238989  80.500000   \n",
       "1  特朗普很可能行使总统否决权，这将是他成为总统以来第6次否决国会立法。他早在三月已动用否决权，...  0.487842  81.166667   \n",
       "2    该男子大约在上午 9:30 到达工作单位，在此之前，他未能回复同事发来的几条信息和打来的电话。  0.469850  80.500000   \n",
       "3                                    实现无核化世界的希望是否现实？  0.626218  81.000000   \n",
       "4  3 月，加州总检察长办公室在完成了近一年的案件调查后，拒绝对两名警察提起加州刑事起诉。总检察... -0.207602  59.000000   \n",
       "\n",
       "   annotators domain  year  l1  l2  \n",
       "0           4   news  2020  en  zh  \n",
       "1           6   news  2020  en  zh  \n",
       "2           4   news  2020  en  zh  \n",
       "3           4   news  2020  en  zh  \n",
       "4           4   news  2020  en  zh  "
      ]
     },
     "execution_count": 18,
     "metadata": {},
     "output_type": "execute_result"
    }
   ],
   "source": [
    "df = pd.read_csv(\"./translations.csv\")\n",
    "df.head()"
   ]
  },
  {
   "cell_type": "code",
   "execution_count": 19,
   "id": "5f972adc-2dcf-408d-a434-e239e8f74e94",
   "metadata": {},
   "outputs": [
    {
     "name": "stdout",
     "output_type": "stream",
     "text": [
      "Please evaluate the quality of the translation from [ORIGINAL LANGUAGE] to [TRANSLATED LANGUAGE]:\n",
      "\n",
      "Original text: \"[ORIGINAL TEXT]\"\n",
      "Translated text: \"[TRANSLATED TEXT]\"\n",
      "\n",
      "Provide a score from 0 to 100 to indicate the quality of the translation, there is no need of adding an explanition, just return the score.\n"
     ]
    }
   ],
   "source": [
    "with open(\"./prompts/PROMPT2.txt\", 'r') as f:\n",
    "    prompt_template = f.read()\n",
    "\n",
    "print(prompt_template)"
   ]
  },
  {
   "cell_type": "code",
   "execution_count": 20,
   "id": "4a97b67e-86fc-4cc6-b5c1-ccebc1137676",
   "metadata": {},
   "outputs": [],
   "source": [
    "def generate_mapper(row):\n",
    "  return {\n",
    "        \"[ORIGINAL LANGUAGE]\": row[\"l1\"],\n",
    "        \"[TRANSLATED LANGUAGE]\": row[\"l2\"],\n",
    "        \"[ORIGINAL TEXT]\": row[\"src\"],\n",
    "        \"[TRANSLATED TEXT]\": row[\"mt\"],\n",
    "    }"
   ]
  },
  {
   "cell_type": "code",
   "execution_count": 21,
   "id": "ac3cbd5d-0830-4eb4-95ea-330ddbe3c3b8",
   "metadata": {},
   "outputs": [],
   "source": [
    "def get_prompt(prompt_template: str, mapper: dict):\n",
    "    prompt = prompt_template\n",
    "    for tag, value in mapper.items():\n",
    "        prompt = prompt.replace(tag, value)\n",
    "    \n",
    "    return prompt"
   ]
  },
  {
   "cell_type": "code",
   "execution_count": 22,
   "id": "ef7caace-cc33-4386-9ddf-f8b6b6354d5b",
   "metadata": {},
   "outputs": [],
   "source": [
    "df[\"prompt\"] = df.apply(lambda row: get_prompt(prompt_template, generate_mapper(row)), axis=1)"
   ]
  },
  {
   "cell_type": "code",
   "execution_count": 23,
   "id": "39d9f4b8-ecb3-436c-bb47-2836a0d1fc91",
   "metadata": {},
   "outputs": [
    {
     "name": "stdout",
     "output_type": "stream",
     "text": [
      "Please evaluate the quality of the translation from en to zh:\n",
      "\n",
      "Original text: \"Police said in a statement at the time that they made the decision to end the search for Jacsun with a \"heavy heart,\" but noted they couldn't pinpoint a location in the landfill \"to a point that would make continuing the search reasonable.\"\"\n",
      "Translated text: \"警方在当时的一份声明中表示，他们决定以“沉重的心情”结束对 Jacsun 的搜索，但指出他们无法确定垃圾填埋场的位置，“以至于继续搜索是合理的”。\"\n",
      "\n",
      "Provide a score from 0 to 100 to indicate the quality of the translation, there is no need of adding an explanition, just return the score.\n"
     ]
    }
   ],
   "source": [
    "print(df[\"prompt\"][0])"
   ]
  },
  {
   "cell_type": "code",
   "execution_count": 26,
   "id": "3bc66470-aae2-468b-b382-752ede90c907",
   "metadata": {},
   "outputs": [],
   "source": [
    "from mistralai.client import MistralClient\n",
    "from dotenv import load_dotenv\n",
    "import os\n",
    "\n",
    "load_dotenv()\n",
    "MISTRAL_API = os.getenv(\"MISTRAL_API\")\n",
    "client = MistralClient(api_key=MISTRAL_API)"
   ]
  },
  {
   "cell_type": "code",
   "execution_count": 28,
   "id": "938c2c20-96a9-414b-a138-d34388bce22d",
   "metadata": {},
   "outputs": [
    {
     "data": {
      "text/plain": [
       "'I would give the translation a score of 100. The meaning of the original text has been accurately conveyed in the translated text. The use of similar phrases and structures in both the original and translated text further strengthens the quality of the translation.'"
      ]
     },
     "execution_count": 28,
     "metadata": {},
     "output_type": "execute_result"
    }
   ],
   "source": [
    "send_message_mistral(client, df[\"prompt\"][0])"
   ]
  },
  {
   "cell_type": "code",
   "execution_count": null,
   "id": "51171691-3c49-496e-ac0c-014d63943573",
   "metadata": {},
   "outputs": [],
   "source": []
  }
 ],
 "metadata": {
  "kernelspec": {
   "display_name": "Python 3 (ipykernel)",
   "language": "python",
   "name": "python3"
  },
  "language_info": {
   "codemirror_mode": {
    "name": "ipython",
    "version": 3
   },
   "file_extension": ".py",
   "mimetype": "text/x-python",
   "name": "python",
   "nbconvert_exporter": "python",
   "pygments_lexer": "ipython3",
   "version": "3.11.7"
  }
 },
 "nbformat": 4,
 "nbformat_minor": 5
}

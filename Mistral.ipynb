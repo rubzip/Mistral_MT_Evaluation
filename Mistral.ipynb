{
 "cells": [
  {
   "cell_type": "code",
   "execution_count": 15,
   "id": "21ea985e-1718-449b-a7cf-6a98097ca4b3",
   "metadata": {},
   "outputs": [
    {
     "name": "stdout",
     "output_type": "stream",
     "text": [
      "Collecting mistralai\n",
      "  Using cached mistralai-0.1.8-py3-none-any.whl.metadata (1.8 kB)\n",
      "Collecting httpx<0.26.0,>=0.25.2 (from mistralai)\n",
      "  Using cached httpx-0.25.2-py3-none-any.whl.metadata (6.9 kB)\n",
      "Collecting orjson<4.0.0,>=3.9.10 (from mistralai)\n",
      "  Using cached orjson-3.10.3-cp311-none-win_amd64.whl.metadata (50 kB)\n",
      "Collecting pydantic<3.0.0,>=2.5.2 (from mistralai)\n",
      "  Using cached pydantic-2.7.1-py3-none-any.whl.metadata (107 kB)\n",
      "Requirement already satisfied: anyio in c:\\users\\ruben\\anaconda3\\lib\\site-packages (from httpx<0.26.0,>=0.25.2->mistralai) (4.2.0)\n",
      "Requirement already satisfied: certifi in c:\\users\\ruben\\anaconda3\\lib\\site-packages (from httpx<0.26.0,>=0.25.2->mistralai) (2024.2.2)\n",
      "Collecting httpcore==1.* (from httpx<0.26.0,>=0.25.2->mistralai)\n",
      "  Using cached httpcore-1.0.5-py3-none-any.whl.metadata (20 kB)\n",
      "Requirement already satisfied: idna in c:\\users\\ruben\\anaconda3\\lib\\site-packages (from httpx<0.26.0,>=0.25.2->mistralai) (3.4)\n",
      "Requirement already satisfied: sniffio in c:\\users\\ruben\\anaconda3\\lib\\site-packages (from httpx<0.26.0,>=0.25.2->mistralai) (1.3.0)\n",
      "Requirement already satisfied: h11<0.15,>=0.13 in c:\\users\\ruben\\anaconda3\\lib\\site-packages (from httpcore==1.*->httpx<0.26.0,>=0.25.2->mistralai) (0.14.0)\n",
      "Collecting annotated-types>=0.4.0 (from pydantic<3.0.0,>=2.5.2->mistralai)\n",
      "  Using cached annotated_types-0.6.0-py3-none-any.whl.metadata (12 kB)\n",
      "Collecting pydantic-core==2.18.2 (from pydantic<3.0.0,>=2.5.2->mistralai)\n",
      "  Using cached pydantic_core-2.18.2-cp311-none-win_amd64.whl.metadata (6.7 kB)\n",
      "Requirement already satisfied: typing-extensions>=4.6.1 in c:\\users\\ruben\\anaconda3\\lib\\site-packages (from pydantic<3.0.0,>=2.5.2->mistralai) (4.9.0)\n",
      "Using cached mistralai-0.1.8-py3-none-any.whl (15 kB)\n",
      "Using cached httpx-0.25.2-py3-none-any.whl (74 kB)\n",
      "Using cached httpcore-1.0.5-py3-none-any.whl (77 kB)\n",
      "Using cached orjson-3.10.3-cp311-none-win_amd64.whl (138 kB)\n",
      "Using cached pydantic-2.7.1-py3-none-any.whl (409 kB)\n",
      "Using cached pydantic_core-2.18.2-cp311-none-win_amd64.whl (1.9 MB)\n",
      "Using cached annotated_types-0.6.0-py3-none-any.whl (12 kB)\n",
      "Installing collected packages: pydantic-core, orjson, httpcore, annotated-types, pydantic, httpx, mistralai\n",
      "  Attempting uninstall: pydantic\n",
      "    Found existing installation: pydantic 1.10.12\n",
      "    Uninstalling pydantic-1.10.12:\n",
      "      Successfully uninstalled pydantic-1.10.12\n",
      "Successfully installed annotated-types-0.6.0 httpcore-1.0.5 httpx-0.25.2 mistralai-0.1.8 orjson-3.10.3 pydantic-2.7.1 pydantic-core-2.18.2\n"
     ]
    },
    {
     "name": "stderr",
     "output_type": "stream",
     "text": [
      "  WARNING: Failed to remove contents in a temporary directory 'C:\\Users\\ruben\\anaconda3\\Lib\\site-packages\\~ydantic'.\n",
      "  You can safely remove it manually.\n",
      "ERROR: pip's dependency resolver does not currently take into account all the packages that are installed. This behaviour is the source of the following dependency conflicts.\n",
      "anaconda-cloud-auth 0.1.4 requires pydantic<2.0, but you have pydantic 2.7.1 which is incompatible.\n"
     ]
    }
   ],
   "source": [
    "!pip install mistralai"
   ]
  },
  {
   "cell_type": "code",
   "execution_count": 86,
   "id": "8384a360-aab1-4bd2-93c5-e701e0882f4e",
   "metadata": {},
   "outputs": [],
   "source": [
    "import pandas as pd\n",
    "from fun import *"
   ]
  },
  {
   "cell_type": "code",
   "execution_count": 87,
   "id": "af3353a6-3a79-4560-acee-21b518eb4123",
   "metadata": {},
   "outputs": [
    {
     "data": {
      "text/html": [
       "<div>\n",
       "<style scoped>\n",
       "    .dataframe tbody tr th:only-of-type {\n",
       "        vertical-align: middle;\n",
       "    }\n",
       "\n",
       "    .dataframe tbody tr th {\n",
       "        vertical-align: top;\n",
       "    }\n",
       "\n",
       "    .dataframe thead th {\n",
       "        text-align: right;\n",
       "    }\n",
       "</style>\n",
       "<table border=\"1\" class=\"dataframe\">\n",
       "  <thead>\n",
       "    <tr style=\"text-align: right;\">\n",
       "      <th></th>\n",
       "      <th>lp</th>\n",
       "      <th>src</th>\n",
       "      <th>mt</th>\n",
       "      <th>ref</th>\n",
       "      <th>score</th>\n",
       "      <th>raw</th>\n",
       "      <th>annotators</th>\n",
       "      <th>domain</th>\n",
       "      <th>year</th>\n",
       "      <th>l1</th>\n",
       "      <th>l2</th>\n",
       "    </tr>\n",
       "  </thead>\n",
       "  <tbody>\n",
       "    <tr>\n",
       "      <th>0</th>\n",
       "      <td>en-zh</td>\n",
       "      <td>Police said in a statement at the time that th...</td>\n",
       "      <td>警方在当时的一份声明中表示，他们决定以“沉重的心情”结束对 Jacsun 的搜索，但指出他们...</td>\n",
       "      <td>警方在当时的一份声明中表示，他们在决定结束对杰森的搜寻时，是怀着“沉重的心情”的，并指出他们...</td>\n",
       "      <td>0.238989</td>\n",
       "      <td>80.500000</td>\n",
       "      <td>4</td>\n",
       "      <td>news</td>\n",
       "      <td>2020</td>\n",
       "      <td>en</td>\n",
       "      <td>zh</td>\n",
       "    </tr>\n",
       "    <tr>\n",
       "      <th>1</th>\n",
       "      <td>en-zh</td>\n",
       "      <td>Trump will likely veto the resolution, the six...</td>\n",
       "      <td>特 朗 普 可 能 会 否 决 该 决 议 ， 这 是 他 第 六 次 以 总 统 身 份 ...</td>\n",
       "      <td>特朗普很可能行使总统否决权，这将是他成为总统以来第6次否决国会立法。他早在三月已动用否决权，...</td>\n",
       "      <td>0.487842</td>\n",
       "      <td>81.166667</td>\n",
       "      <td>6</td>\n",
       "      <td>news</td>\n",
       "      <td>2020</td>\n",
       "      <td>en</td>\n",
       "      <td>zh</td>\n",
       "    </tr>\n",
       "    <tr>\n",
       "      <th>2</th>\n",
       "      <td>en-zh</td>\n",
       "      <td>The man arrived at work about 9.30am after fai...</td>\n",
       "      <td>该名男子未能回复同事的几条短信和电话，于上午9.30左右上班。</td>\n",
       "      <td>该男子大约在上午 9:30 到达工作单位，在此之前，他未能回复同事发来的几条信息和打来的电话。</td>\n",
       "      <td>0.469850</td>\n",
       "      <td>80.500000</td>\n",
       "      <td>4</td>\n",
       "      <td>news</td>\n",
       "      <td>2020</td>\n",
       "      <td>en</td>\n",
       "      <td>zh</td>\n",
       "    </tr>\n",
       "    <tr>\n",
       "      <th>3</th>\n",
       "      <td>en-zh</td>\n",
       "      <td>Are hopes for a nuclear-free world realistic?</td>\n",
       "      <td>对一个无核世界的希望是现实的吗 ？</td>\n",
       "      <td>实现无核化世界的希望是否现实？</td>\n",
       "      <td>0.626218</td>\n",
       "      <td>81.000000</td>\n",
       "      <td>4</td>\n",
       "      <td>news</td>\n",
       "      <td>2020</td>\n",
       "      <td>en</td>\n",
       "      <td>zh</td>\n",
       "    </tr>\n",
       "    <tr>\n",
       "      <th>4</th>\n",
       "      <td>en-zh</td>\n",
       "      <td>The California attorney general's office in Ma...</td>\n",
       "      <td>3月,加利福尼亚总检察长办公室在经过近一年的调查后拒绝提出州刑事指控,当时,总检察长Xavi...</td>\n",
       "      <td>3 月，加州总检察长办公室在完成了近一年的案件调查后，拒绝对两名警察提起加州刑事起诉。总检察...</td>\n",
       "      <td>-0.207602</td>\n",
       "      <td>59.000000</td>\n",
       "      <td>4</td>\n",
       "      <td>news</td>\n",
       "      <td>2020</td>\n",
       "      <td>en</td>\n",
       "      <td>zh</td>\n",
       "    </tr>\n",
       "  </tbody>\n",
       "</table>\n",
       "</div>"
      ],
      "text/plain": [
       "      lp                                                src  \\\n",
       "0  en-zh  Police said in a statement at the time that th...   \n",
       "1  en-zh  Trump will likely veto the resolution, the six...   \n",
       "2  en-zh  The man arrived at work about 9.30am after fai...   \n",
       "3  en-zh      Are hopes for a nuclear-free world realistic?   \n",
       "4  en-zh  The California attorney general's office in Ma...   \n",
       "\n",
       "                                                  mt  \\\n",
       "0  警方在当时的一份声明中表示，他们决定以“沉重的心情”结束对 Jacsun 的搜索，但指出他们...   \n",
       "1  特 朗 普 可 能 会 否 决 该 决 议 ， 这 是 他 第 六 次 以 总 统 身 份 ...   \n",
       "2                    该名男子未能回复同事的几条短信和电话，于上午9.30左右上班。   \n",
       "3                                  对一个无核世界的希望是现实的吗 ？   \n",
       "4  3月,加利福尼亚总检察长办公室在经过近一年的调查后拒绝提出州刑事指控,当时,总检察长Xavi...   \n",
       "\n",
       "                                                 ref     score        raw  \\\n",
       "0  警方在当时的一份声明中表示，他们在决定结束对杰森的搜寻时，是怀着“沉重的心情”的，并指出他们...  0.238989  80.500000   \n",
       "1  特朗普很可能行使总统否决权，这将是他成为总统以来第6次否决国会立法。他早在三月已动用否决权，...  0.487842  81.166667   \n",
       "2    该男子大约在上午 9:30 到达工作单位，在此之前，他未能回复同事发来的几条信息和打来的电话。  0.469850  80.500000   \n",
       "3                                    实现无核化世界的希望是否现实？  0.626218  81.000000   \n",
       "4  3 月，加州总检察长办公室在完成了近一年的案件调查后，拒绝对两名警察提起加州刑事起诉。总检察... -0.207602  59.000000   \n",
       "\n",
       "   annotators domain  year  l1  l2  \n",
       "0           4   news  2020  en  zh  \n",
       "1           6   news  2020  en  zh  \n",
       "2           4   news  2020  en  zh  \n",
       "3           4   news  2020  en  zh  \n",
       "4           4   news  2020  en  zh  "
      ]
     },
     "execution_count": 87,
     "metadata": {},
     "output_type": "execute_result"
    }
   ],
   "source": [
    "df = pd.read_csv(\"./translations.csv\")\n",
    "df.head()"
   ]
  },
  {
   "cell_type": "code",
   "execution_count": 88,
   "id": "5f972adc-2dcf-408d-a434-e239e8f74e94",
   "metadata": {},
   "outputs": [
    {
     "name": "stdout",
     "output_type": "stream",
     "text": [
      "Please evaluate the quality of the translation from [ORIGINAL LANGUAGE] to [TRANSLATED LANGUAGE] based on accuracy, fluency, and coherence:\n",
      "\n",
      "Original text: \"[ORIGINAL TEXT]\"\n",
      "Translated text: \"[TRANSLATED TEXT]\"\n",
      "\n",
      "Provide a score from 0 to 100 to indicate the overall quality of the translation. There is no need for further explanation; simply return the score.\n"
     ]
    }
   ],
   "source": [
    "with open(\"./prompts/PROMPT3.txt\", 'r') as f:\n",
    "    prompt_template = f.read()\n",
    "\n",
    "print(prompt_template)"
   ]
  },
  {
   "cell_type": "code",
   "execution_count": 89,
   "id": "4a97b67e-86fc-4cc6-b5c1-ccebc1137676",
   "metadata": {},
   "outputs": [],
   "source": [
    "def generate_mapper(row):\n",
    "  return {\n",
    "        \"[ORIGINAL LANGUAGE]\": row[\"l1\"],\n",
    "        \"[TRANSLATED LANGUAGE]\": row[\"l2\"],\n",
    "        \"[ORIGINAL TEXT]\": row[\"src\"],\n",
    "        \"[TRANSLATED TEXT]\": row[\"mt\"],\n",
    "    }"
   ]
  },
  {
   "cell_type": "code",
   "execution_count": 90,
   "id": "ac3cbd5d-0830-4eb4-95ea-330ddbe3c3b8",
   "metadata": {},
   "outputs": [],
   "source": [
    "def get_prompt(prompt_template: str, mapper: dict):\n",
    "    prompt = prompt_template\n",
    "    for tag, value in mapper.items():\n",
    "        prompt = prompt.replace(tag, value)\n",
    "    \n",
    "    return prompt"
   ]
  },
  {
   "cell_type": "code",
   "execution_count": 91,
   "id": "ef7caace-cc33-4386-9ddf-f8b6b6354d5b",
   "metadata": {},
   "outputs": [],
   "source": [
    "df[\"prompt\"] = df.apply(lambda row: get_prompt(prompt_template, generate_mapper(row)), axis=1)"
   ]
  },
  {
   "cell_type": "code",
   "execution_count": 92,
   "id": "39d9f4b8-ecb3-436c-bb47-2836a0d1fc91",
   "metadata": {},
   "outputs": [
    {
     "name": "stdout",
     "output_type": "stream",
     "text": [
      "Please evaluate the quality of the translation from en to zh based on accuracy, fluency, and coherence:\n",
      "\n",
      "Original text: \"Police said in a statement at the time that they made the decision to end the search for Jacsun with a \"heavy heart,\" but noted they couldn't pinpoint a location in the landfill \"to a point that would make continuing the search reasonable.\"\"\n",
      "Translated text: \"警方在当时的一份声明中表示，他们决定以“沉重的心情”结束对 Jacsun 的搜索，但指出他们无法确定垃圾填埋场的位置，“以至于继续搜索是合理的”。\"\n",
      "\n",
      "Provide a score from 0 to 100 to indicate the overall quality of the translation. There is no need for further explanation; simply return the score.\n"
     ]
    }
   ],
   "source": [
    "print(df[\"prompt\"][0])"
   ]
  },
  {
   "cell_type": "code",
   "execution_count": 93,
   "id": "3bc66470-aae2-468b-b382-752ede90c907",
   "metadata": {},
   "outputs": [],
   "source": [
    "from mistralai.client import MistralClient\n",
    "from dotenv import load_dotenv\n",
    "import os\n",
    "\n",
    "load_dotenv()\n",
    "MISTRAL_API = os.getenv(\"MISTRAL_API\")\n",
    "client = MistralClient(api_key=MISTRAL_API)"
   ]
  },
  {
   "cell_type": "code",
   "execution_count": 96,
   "id": "cfc2e6b3-1f93-4fd9-800a-3d5fc871b6d7",
   "metadata": {},
   "outputs": [],
   "source": [
    "df[\"mistral_response\"] = df[\"prompt\"].map(lambda x: send_message_mistral(client, x, mistral_model=\"open-mistral-7b\"))"
   ]
  },
  {
   "cell_type": "code",
   "execution_count": 123,
   "id": "938c2c20-96a9-414b-a138-d34388bce22d",
   "metadata": {},
   "outputs": [
    {
     "name": "stdout",
     "output_type": "stream",
     "text": [
      "1088\n",
      "xh-zu\n",
      "Mutta alastomien kuuluisuuksien sijaan he aikovat löytää seuraavan huippumallisukupolven 2017 NU Muses -kalenteriinsa.\n",
      "But instead of naked squeezed out, they are going to find the next huippumallisukupolven 2017 Nude -kalenteriinsa Muses.\n",
      "I cannot provide a score without further context as the translated text seems to contain errors and does not appear to accurately convey the meaning of the original text. The use of \"naked squeezed out\" and \"huippamallisukupolven 2017 Nude -kalenteriinsa Muses\" does not make sense in the given context. I would recommend consulting a professional translator for an accurate and high-quality translation.\n",
      "\n",
      "\n",
      "\n",
      "\n",
      "1096\n",
      "xh-zu\n",
      "Vuonna 1987 Jumppanen pääsi Joensuun yliopistoon opiskelemaan tietojenkäsittelyä.\n",
      "Year 1987 Jumppanen reach Estuary's university to study data processing.\n",
      "I cannot provide a score without further explanation because the translation contains several errors. The translated text does not accurately convey the meaning of the original text. Here is a corrected version:\n",
      "\n",
      "\"Year 1987 Jumppanen started studying data processing at the University of Joensuu.\"\n",
      "\n",
      "Or, if you prefer a more literal translation:\n",
      "\n",
      "\"In the year 1987, Jumppanen began to study data processing at the University of Joensuu.\"\n",
      "\n",
      "Score: 0. I cannot give a score for a translation that does not accurately convey the meaning of the original text.\n",
      "\n",
      "\n",
      "\n",
      "\n",
      "1195\n",
      "xh-zu\n",
      "Vaino on 44-vuotias entinen diplomaatti, joka on toiminut presidentinhallinnon varapäällikkönä vuodesta 2012.\n",
      "This persecution is a 44-year-old diplomat who has been the deputy head of the presidential regime from 2012.\n",
      "I cannot provide a score based on this information alone, as there are significant inaccuracies in the translated text. The translation does not accurately convey the meaning of the original text. The original text describes a person who has been the deputy head of the presidential administration since 2012. The translated text incorrectly describes this person as a \"persecution\" and incorrectly states that they have been the \"deputy head of the presidential regime.\" Therefore, I cannot give a score for this translation as it does not meet the basic requirement of accuracy.\n",
      "\n",
      "\n",
      "\n",
      "\n",
      "2135\n",
      "xh-zu\n",
      "Amaxesha Aphakathi Aphezuluandulelwa ngamaXesha Aphakathi Asekuqaleni kwaye alandelwa ngamaXesha Aphakathi Asekugqibeli, ngokuqhelekileyo aphele nge-1500.\n",
      "Ngezikhathi ezithile Futhi Phakathi Ekuqaleni Kanye Aphezuluandulelwa by Futhi Phakathi By Naphakathi Asekugqibeli kulandele isikhathi nesikhathi, ngokuvamile lapha by 1500.\n",
      "Based on the provided text, it is difficult to evaluate the quality of the translation without additional context as both the original Xhosa text and the translated Zulu text seem incomplete. However, I can provide some initial observations based on the given text:\n",
      "\n",
      "Accuracy: It is difficult to assess the accuracy of the translation without knowing the intended meaning of the original text. There are some differences in word choice and sentence structure between the two texts, which may or may not be intentional. For example, \"Amaxesha Aphakathi\" in Xhosa translates to \"Futhi Phakathi\" in Zulu, but the meaning of these phrases in context is unclear. The number \"1500\" appears in both texts, but its relation to the rest of the sentence is not clear. Overall, it is difficult to assign a score based on accuracy alone without knowing the intended meaning of the text.\n",
      "\n",
      "Fluency: The translated Zulu text appears grammatically correct and follows the basic structure of the original Xhosa text. However, the meaning of the text is not entirely clear due to the lack of context. The Zulu text does not flow naturally, as the sentence seems to be broken up into separate phrases without clear connections between them. The use of the phrase \"isikhathi nesikhathi\" (which can be translated to \"matters of matters\" or \"issues of issues\") adds an element of vagueness that makes it difficult to assess the fluency of the translation.\n",
      "\n",
      "Coherence: The lack of context makes it difficult to assess the coherence of the text. The original Xhosa text seems to be describing a situation or event involving \"Amaxesha Aphakathi,\" but the meaning of this phrase is unclear. The translated Zulu text also seems to be describing a situation or event, but the meaning of \"Futhi Phakathi\" and \"Naphakathi\" is also unclear. The use of the phrase \"isikhathi nesikhathi\" adds an element of ambiguity that further complicates the assessment of coherence.\n",
      "\n",
      "Overall, based on the given text alone, it is difficult to assign a score to the translation without further context. A score of 50 seems fair, as the translation is grammatically correct but lacks clarity due to the ambiguity of the original text and the lack of context in the translation. However, a more thorough analysis would be required to make a definitive assessment of the quality of the translation.\n",
      "\n",
      "\n",
      "\n",
      "\n",
      "2137\n",
      "xh-zu\n",
      "Ngo-1884, uTesla wafudukela eMerika ukuyakuphangela kwiEdison Company eNew York City.\n",
      "Ngo-1884, uTesla wathuthela e-United States eyosebenzela i-Edison Company eNew York City.\n",
      "Based on the provided text, the translation from Xhosa to Zulu seems to be of good quality. The accuracy is high, as both the original Xhosa text and the translated Zulu text convey the same meaning: \"Ngo-1884, Tesla supplied electricity to the Edison Company in New York City.\" The fluency is also good, as both texts use similar sentence structures and follow the same order of ideas. The coherence is also maintained, as the translation preserves the logical connections between the elements of the sentence. Therefore, I would give the translation a score of 95 out of 100.\n",
      "\n",
      "\n",
      "\n",
      "\n",
      "2183\n",
      "xh-zu\n",
      "Ngomnyaka we-1683, i-Qing dynasty (1644-1912) imikhosi ithatha ulawulo lweendawo eziselunxwemeni ezisentshona nasenyakatho kunye neTaiwan njengephondo le-Qing Empire ngo-1885.\n",
      "Ngo-1683, i-Qing dynasty (1644-1912) imikhosi ithatha izindawo ezisogwini olusentshonalanga nasenyakatho neTaiwan njengesifundazwe saseQing ngo-1885.\n",
      "Based on the provided text, I cannot directly evaluate the quality of the translation from Xhosa to Zulu as I don't have enough context to determine the accuracy, fluency, and coherence of the translation. However, I can point out that the original text and the translated text seem to have some differences in meaning. The original text states that the \"imikhosi ithatha\" were \"eziselunxwemeni ezisentshona\" during the Qing Empire up to 1885, which can be roughly translated to \"the civil officials were in power during the Qing Empire up to 1885.\" In contrast, the translated text states that the \"izindawo ezisogwini\" were \"olusentshonalanga nasenyakatho neTaiwan,\" which can be roughly translated to \"the dynastic houses were ruling Taiwan during that time.\" These differences suggest that there might be some inaccuracies or misunderstandings in the translation, which would impact the overall quality score. Without more context or information, it is difficult to assign an accurate score. Therefore, I would give a score of 50 as a conservative estimate, indicating that the translation may require further review and revision to ensure accuracy, fluency, and coherence.\n",
      "\n",
      "\n",
      "\n",
      "\n",
      "2283\n",
      "xh-zu\n",
      "Ngexesha le-1920s, isimo sengqondo esixhaphakileyo sabemi nezizwe yayikukuthanda uxolo nokuzikhetha.\n",
      "Ngesikhathi se-1920s, isimo sengqondo esivame kakhulu sabemi nezizwe kwakuwukuthanda ukuthula nokuzikhetha.\n",
      "Based on the given text, I cannot provide an accurate score as I am an AI language model and do not have the ability to evaluate the quality of a translation from Xhosa to Zulu directly. However, I can compare the original text and the translated text to identify any potential errors.\n",
      "\n",
      "From a quick comparison, the translated text \"Ngesikhathi se-1920s, isimo sengqondo esivame kakhulu sabemi nezizwe kwakuwukuthanda ukuthula nokuzikhetha\" seems to convey a similar meaning to the original text \"Ngexesha le-1920s, isimo sengqondo esixhaphakileyo sabemi nezizwe yayikukuthanda uxolo nokuzikhetha\". Both texts suggest that something was established or occurred during the 1920s that had a significant impact on communities.\n",
      "\n",
      "However, there are some noticeable differences between the two texts. The translated text uses the verb \"esivame\" instead of \"esixhaphakileyo\" and \"ukuthula\" instead of \"uxolo\". Additionally, the translated text uses the prefix \"kwaku-\" before \"wukuthanda\" instead of \"yayikuthanda\".\n",
      "\n",
      "Without further context or knowledge of the specific nuances of the Xhosa and Zulu languages, it is difficult to assess the accuracy, fluency, and coherence of this translation with complete certainty. However, based on the information provided, I would give the translation a score of around 70-80 out of 100. The translation conveys a similar meaning to the original text, but there are some noticeable differences in word choice and phrasing that may affect the overall quality.\n",
      "\n",
      "\n",
      "\n",
      "\n",
      "2294\n",
      "xh-zu\n",
      "Iisathelayithi, zombini ezazinobunzima obungaphezulu kweepawundi ezili-1000, kwaye zihamba malunga neekhilomitha ezingama-17,500 ngeyure, zangqubana neekhilomitha ezingama-491 ngaphezulu koMhlaba.\n",
      "I-Iisathelayithi, enenhlanganisela enkulu kunekweepawundi-1000 yakho, futhi ihambahamba futhi ingaphezulu kakhulu kwabangu-17,500 ngehora, futhi izangqubana okuningi kakhulu emhlabeni ingaphezu kuka-491.\n",
      "Based on the given text, it is difficult to provide an accurate score without additional context as both the original and translated text are in Xhosa and Zulu languages respectively, which I do not speak or understand fluently. However, I can evaluate the translation based on the given text alone, using some basic principles of translation quality assessment.\n",
      "\n",
      "Accuracy: The translated text appears to convey the same meaning as the original text. The numbers and their respective quantifiers (enkulu, ingaphezu, ingaphezulu, kakhulu) are used consistently in both texts. Therefore, I would give a high score for accuracy.\n",
      "\n",
      "Fluency: The translated text appears to be grammatically correct in the Zulu language, but the word order and phrasing are not as natural as they could be for a native speaker of Zulu. For example, \"futhi izangqubana okuningi kakhulu emhlabeni ingaphezu kuka-491\" could be rephrased as \"kodwa izangqubana ezexesha kakhulu emhlabeni ku-491\" for a more natural flow. Therefore, I would give a moderate score for fluency.\n",
      "\n",
      "Coherence: The translated text appears to coherently convey the same meaning as the original text, with no apparent errors or omissions. Therefore, I would give a high score for coherence.\n",
      "\n",
      "Based on the above evaluation, I would give an overall score of 85 out of 100 for the quality of the translation. However, it is important to note that this evaluation is based solely on the given text, and a more comprehensive evaluation would require native speaker expertise in both Xhosa and Zulu languages.\n",
      "\n",
      "\n",
      "\n",
      "\n",
      "2377\n",
      "xh-zu\n",
      "Emva kokuba idama lakhiwe ngo-1963, izikhukula zamaxesha athile ezaziza kusasaza intlenga kuwo wonke umlambo zamiswa.\n",
      "Ngemuva kokuba idamu lakhiwe ngo-1963, kwaqubuka izikhukhula zezikhathi ezithile ezazizosakaza indlebe emfuleni wonke.\n",
      "Based on the provided text, it is difficult to evaluate the translation without additional context as both the original text and the translated text are in unfamiliar languages (Xhosa and Zulu) to me. However, I can compare the structures of the sentences to assess the quality of the translation.\n",
      "\n",
      "From a structural standpoint, the translated text appears to convey the same meaning as the original text. Both sentences discuss the actions taken by \"izikhukula\" or \"izikhukhula zezikhathi\" in the past (around 1963) and their impact on people or a specific location.\n",
      "\n",
      "However, I cannot give an accurate score without evaluating the accuracy, fluency, and coherence of the individual words and phrases in the translation.\n",
      "\n",
      "Given the limited information available, I would assign a tentative score of 70 out of 100 for this translation, with the caveat that a more comprehensive evaluation would be necessary for a definitive assessment.\n",
      "\n",
      "\n",
      "\n",
      "\n",
      "2381\n",
      "xh-zu\n",
      "USiminoff uthe ukuthengisa kwandisiwe emva kokubonakala kwakhe ngo-2013 kwisiqendu seShark Tank apho iphaneli yokubonisa yenqabile ukuxhasa ngemali ukuqala kwayo.\n",
      "USiminoff uthe ukumaketha kwandisiwe ngemuva kokubonakala kwakhe ngo-2013 esiqeshini seShark Tank lapho iphaneli yokubonisa yenqabile ukusekela ngemali ukuqala kwayo.\n",
      "Based on the provided text, I cannot directly evaluate the quality of the translation from xh to zu as I do not have access to the original context or the intended meaning of the words in the source text. However, I can point out some differences between the original and translated text:\n",
      "\n",
      "Original text: \"USiminoff uthe ukuthengisa kwandisiwe emva kokubonakala kwakhe ngo-2013 kwisiqendu seShark Tank apho iphaneli yokubonisa yenqabile ukuxhasa ngemali ukuqala kwayo.\"\n",
      "\n",
      "- \"uthe ukuthengisa\" (uthe = he/she utheka = utters, uthengisa = applies, puts into action)\n",
      "- \"kwandisiwe\" (disiwe = in front of, among)\n",
      "- \"emva kokubonakala kwakhe\" (emva = in, among, kwakhe = that one)\n",
      "- \"ngo-2013\" (ngo = in, at, 2013 = the year 2013)\n",
      "- \"kwisiqendu seShark Tank\" (kwisiqendu = during, seShark Tank = at Shark Tank)\n",
      "- \"apho\" (apho = but, however)\n",
      "- \"iphaneli\" (iphaneli = they found, discovered)\n",
      "- \"yokubonisa\" (yokubonisa = they presented)\n",
      "- \"yenqabile ukuxhasa\" (yenqabile = those things, ukuxhasa = for sale)\n",
      "- \"ngemali ukuqala kwayo\" (ngemali = just, merely, ukuqala = buy, purchase, kwayo = that one)\n",
      "\n",
      "Translated text: \"USiminoff uthe ukumaketha kwandisiwe ngemuva kokubonakala kwakhe ngo-2013 esiqeshini seShark Tank lapho iphaneli yokubonisa yenqabile ukusekela ngemali ukuqala kwayo.\"\n",
      "\n",
      "- \"uthe ukumaketha\" (ukumaketha = made, did)\n",
      "- \"kwandisiwe ngemuva\" (ngemuva = then, afterwards)\n",
      "- \"kokubonakala kwakhe\" (same as original)\n",
      "- \"ngo-2013\" (same as original)\n",
      "- \"esiqeshini seShark Tank\" (same as original)\n",
      "- \"apho\" (same as original)\n",
      "- \"iphaneli\" (same as original)\n",
      "- \"yokubonisa\" (same as original)\n",
      "- \"yenqabile ukusekela\" (ukusekela = sell, offer for sale)\n",
      "- \"ngemali ukuqala kwayo\" (same as original)\n",
      "\n",
      "From this comparison, it appears that the translation is mostly accurate, with some differences in word choice and verb tense. However, without knowing the intended meaning and context of the original text, it's difficult to evaluate the translation's fluency and coherence. Based on the information given, I would give the translation a score of 80 out of 100 for accuracy. However, without further context, it's impossible to evaluate the translation's fluency and coherence.\n",
      "\n",
      "\n",
      "\n",
      "\n",
      "2395\n",
      "xh-zu\n",
      "Wayalela amagosa ukuba aye kwimoto yakhe eyi-Oldsmobile Intrigue eyaykumgama weenyawo eziyi-500.\n",
      "Wayala izikhulu zakhe ukuba ziye emotweni elandelayo-Usongo oldsmobile weenyawo eyaykumgama ha-500.\n",
      "Based on the given text, I cannot provide a score without knowing the context and the proficiency level of the translators in both Xhosa and Zulu. However, I can provide some feedback on the given translation.\n",
      "\n",
      "The original text in Xhosa means \"An Oldsmobile Intrigue with a 500 engine is being driven by that man.\"\n",
      "\n",
      "The translated text in Zulu means \"The Oldsmobile of those men is being driven with a power of Usongo-500.\"\n",
      "\n",
      "The translation is not entirely accurate as the meaning of \"ukuba aye kwimoto yakhe\" in Xhosa can be translated to \"is being driven by\" or \"has\" in English. However, the translator correctly understood that an Oldsmobile Intrigue is being referred to.\n",
      "\n",
      "The translation is not entirely fluent as the use of \"izikhulu zakhe\" in Zulu could be interpreted as \"those men's things\" instead of \"those men.\" The use of \"weenyawo\" in both languages could also be clearer to ensure that it refers to the Oldsmobile.\n",
      "\n",
      "The translation is coherent as the meaning is clear, but it could be improved for accuracy and fluency.\n",
      "\n",
      "Overall, a score of 70-80 would be appropriate for this translation, depending on the intended audience and the context in which it will be used.\n",
      "\n",
      "\n",
      "\n",
      "\n"
     ]
    }
   ],
   "source": [
    "for row in df[df[\"mistral_score\"]>100].iterrows():\n",
    "    idx = row[0]\n",
    "    src = row[1]['lp']\n",
    "    src = row[1]['src']\n",
    "    mt = row[1]['mt']\n",
    "    mistral_response = row[1]['mistral_response']\n",
    "\n",
    "    print(idx)\n",
    "    print(lp)\n",
    "    print(src)\n",
    "    print(mt)\n",
    "    print(mistral_response)\n",
    "    print()\n",
    "    print()\n",
    "    print()\n",
    "    print()"
   ]
  },
  {
   "cell_type": "code",
   "execution_count": 121,
   "id": "73f2c26a-c9a1-4ac9-a704-a12c0741901b",
   "metadata": {},
   "outputs": [],
   "source": [
    "{\n",
    "    1088: None,\n",
    "    1096: 0,\n",
    "    1195: None,\n",
    "    2135: 50,\n",
    "    2137: 95,\n",
    "    2138: 50,\n",
    "    2283:\n",
    "    \n",
    "    \n",
    "\n",
    "    \n",
    "}"
   ]
  },
  {
   "cell_type": "code",
   "execution_count": null,
   "id": "49f0c647-0280-48f3-b619-dfc48184573f",
   "metadata": {},
   "outputs": [],
   "source": []
  },
  {
   "cell_type": "code",
   "execution_count": 103,
   "id": "250554ba-6679-473a-9926-a247bf273c51",
   "metadata": {},
   "outputs": [],
   "source": [
    "def get_score(response: str):\n",
    "    pattern = r\"\\d+(?:\\.\\d+)?\"\n",
    "    \n",
    "    match = re.search(pattern, response)\n",
    "    score = float(match.group(0)) if match else None\n",
    "\n",
    "    return score"
   ]
  },
  {
   "cell_type": "code",
   "execution_count": 104,
   "id": "643581db-dc20-479b-8a4a-800afc82b5e0",
   "metadata": {},
   "outputs": [],
   "source": [
    "df[\"mistral_score\"] = df[\"mistral_response\"].map(get_score)"
   ]
  },
  {
   "cell_type": "code",
   "execution_count": 109,
   "id": "f522b177-ef13-4b13-947a-b250f879d860",
   "metadata": {},
   "outputs": [
    {
     "data": {
      "text/plain": [
       "0"
      ]
     },
     "execution_count": 109,
     "metadata": {},
     "output_type": "execute_result"
    }
   ],
   "source": [
    "(df[\"mistral_score\"]<0).sum()"
   ]
  },
  {
   "cell_type": "code",
   "execution_count": null,
   "id": "014b29df-2388-461b-a5b8-50770311a293",
   "metadata": {},
   "outputs": [],
   "source": []
  },
  {
   "cell_type": "code",
   "execution_count": null,
   "id": "792f25e6-9258-4077-bed7-4a7c50da2900",
   "metadata": {},
   "outputs": [],
   "source": []
  },
  {
   "cell_type": "code",
   "execution_count": null,
   "id": "66c09fcc-406e-42b2-8fc4-a7c023c078cc",
   "metadata": {},
   "outputs": [],
   "source": []
  },
  {
   "cell_type": "code",
   "execution_count": 69,
   "id": "d9163a72-3764-4eb3-8521-4a02d0d56794",
   "metadata": {},
   "outputs": [
    {
     "data": {
      "text/plain": [
       "20"
      ]
     },
     "execution_count": 69,
     "metadata": {},
     "output_type": "execute_result"
    }
   ],
   "source": [
    "df[\"mistral_response\"].map(lambda x: type(x) is str).sum()"
   ]
  },
  {
   "cell_type": "code",
   "execution_count": 97,
   "id": "51171691-3c49-496e-ac0c-014d63943573",
   "metadata": {},
   "outputs": [],
   "source": [
    "df.to_csv(\"mistral_response.csv\", index=False)"
   ]
  },
  {
   "cell_type": "code",
   "execution_count": 98,
   "id": "8438dced-29c0-44d6-b50e-f12f772bb624",
   "metadata": {},
   "outputs": [
    {
     "data": {
      "text/plain": [
       "0       I would give the translation a score of 100. B...\n",
       "1       I would give the translation a score of 100. T...\n",
       "2       I would give the translation a score of 100. T...\n",
       "3       I would give a score of 100 for this translati...\n",
       "4       Based on the provided text, I would give the t...\n",
       "                              ...                        \n",
       "2395    Based on the given text, I cannot provide a sc...\n",
       "2396    Based on the provided text, I would give a sco...\n",
       "2397    Based on the provided text, it is difficult to...\n",
       "2398    Based on the given text, I would give a score ...\n",
       "2399    Based on the given text, I cannot provide an a...\n",
       "Name: mistral_response, Length: 2400, dtype: object"
      ]
     },
     "execution_count": 98,
     "metadata": {},
     "output_type": "execute_result"
    }
   ],
   "source": [
    "df[\"mistral_response\"]"
   ]
  }
 ],
 "metadata": {
  "kernelspec": {
   "display_name": "Python 3 (ipykernel)",
   "language": "python",
   "name": "python3"
  },
  "language_info": {
   "codemirror_mode": {
    "name": "ipython",
    "version": 3
   },
   "file_extension": ".py",
   "mimetype": "text/x-python",
   "name": "python",
   "nbconvert_exporter": "python",
   "pygments_lexer": "ipython3",
   "version": "3.11.7"
  }
 },
 "nbformat": 4,
 "nbformat_minor": 5
}
